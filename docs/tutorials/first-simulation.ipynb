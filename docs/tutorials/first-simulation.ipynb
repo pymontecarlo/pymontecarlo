{
 "cells": [
  {
   "cell_type": "markdown",
   "metadata": {},
   "source": [
    "# First simulation\n",
    "\n",
    "A (Monte Carlo) Simulation consists in (1) [options](#setting-up-simulation-options), defining all the necessary parameters to setup the simulation, and (2) [results](#results), containing all the outputs of a simulation. One or more simulations form a `Project`. A **pyMonteCarlo** project stored on disk has the extension `.mcsim`. It consists of a [HDF5](http://hdf5group.org) file and can be opened in the [HDFViewer](http://hdf5group.org) or using any HDF5 library."
   ]
  },
  {
   "cell_type": "markdown",
   "metadata": {},
   "source": [
    "## Setting up simulation options\n",
    "\n",
    "The options are defined by the class `Options`. It contains all the parameters necessary to run a simulation. The parameters are grouped into four categories: \n",
    "\n",
    "* program\n",
    "* beam\n",
    "* sample\n",
    "* analyses\n",
    "\n",
    "The beam, sample and analyses are independent of Monte Carlo programs. In other words, the same sample definition can be used for different Monte Carlo programs. For a given `Options` instance, only the program needs to change to run the same simulation with different Monte Carlo programs. That being said not all beam, sample and analyses are supported by all Monte Carlo programs. Supported parameters for each Monte Carlo program are listed in the [supported options](../supported-options.rst) page."
   ]
  },
  {
   "cell_type": "markdown",
   "metadata": {},
   "source": [
    "### Program\n",
    "\n",
    "The program is specific to a particular Monte Carlo program. Each program follows the contract specified by the base program class `Program`. One implementation is for [Casino 2](http://www.gel.usherbrooke.ca/casino) as part of the package **pymontecarlo-casino2**. The program can be imported as follow:"
   ]
  },
  {
   "cell_type": "code",
   "execution_count": null,
   "metadata": {},
   "outputs": [],
   "source": [
    "from pymontecarlo_casino2.program import Casino2Program"
   ]
  },
  {
   "cell_type": "markdown",
   "metadata": {},
   "source": [
    "The parameters associated with the program will depend on each Monte Carlo program. For Casino 2, the number of trajectories and the models used for the simulation can be specified. Here is an example with the default models and 5000 trajectories:"
   ]
  },
  {
   "cell_type": "code",
   "execution_count": null,
   "metadata": {},
   "outputs": [],
   "source": [
    "program = Casino2Program(5000)"
   ]
  },
  {
   "cell_type": "markdown",
   "metadata": {},
   "source": [
    "Throughout **pyMonteCarlo**, a parameter can also be set/modified using its attribute inside the class:"
   ]
  },
  {
   "cell_type": "code",
   "execution_count": null,
   "metadata": {},
   "outputs": [],
   "source": [
    "program.number_trajectories = 6000"
   ]
  },
  {
   "cell_type": "markdown",
   "metadata": {},
   "source": [
    "All parameters are completely mutable and are only validated before a simulation starts."
   ]
  },
  {
   "cell_type": "markdown",
   "metadata": {},
   "source": [
    "### Beam\n",
    "\n",
    "The second category of parameters is the beam. At the moment, three types of beam are implemented/supported: \n",
    "\n",
    "* a pencil beam: beam with no diameter, \n",
    "* a Gaussian beam: beam where the electrons are randomly distributed following a two dimensional Gaussian distribution, where the diameter is defined as full width at half maximum (FWHM),\n",
    "* a cylindrical beam: beam where the electrons are randomly distributed within a cylinder.\n",
    "\n",
    "All beam implementations must define the energy and type of the incident particles as defined by the base `Beam` class. The type of incident particle is defined for future expansions, since all  currently supported Monte Carlo programs only accept `ELECTRON`. Unless otherwise stated, all beams assume that the incident particles travel downwards along the z-axis, i.e. following the vector `(0, 0, -1)`.\n",
    "\n",
    "The pencil beam is the most supported by the different Monte Carlo programs as no diameter is defined. Here is an example of a pencil beam with a beam energy of 15keV:"
   ]
  },
  {
   "cell_type": "code",
   "execution_count": null,
   "metadata": {},
   "outputs": [],
   "source": [
    "from pymontecarlo.options.beam import PencilBeam\n",
    "beam = PencilBeam(15e3)"
   ]
  },
  {
   "cell_type": "markdown",
   "metadata": {},
   "source": [
    "Other parameters of the beam are the beam center position. The actual position of each particle will be randomly sampled by the Monte Carlo program to obtain a two dimensional Gaussian distribution centered at the specified position. By default, the beam is centered at `x = 0m` and `y = 0m`. The position can be changed using either attribute:"
   ]
  },
  {
   "cell_type": "code",
   "execution_count": null,
   "metadata": {},
   "outputs": [],
   "source": [
    "beam.x_m = 100e-9\n",
    "beam.y_m = 200e-9"
   ]
  },
  {
   "cell_type": "markdown",
   "metadata": {},
   "source": [
    "If you are looking to perform a line scan, you should have a look at the pencil beam builder class `PencilBeamBuilder`. Builder classes are helper classes to create multiple instances by varying one or more parameters. For example, if we would like to create a pencil beam at two incident energy (5 and 15kV) and scan the sample from -100 to 100μm with a step size of 25μm:"
   ]
  },
  {
   "cell_type": "code",
   "execution_count": null,
   "metadata": {},
   "outputs": [],
   "source": [
    "from pymontecarlo.options.beam import PencilBeamBuilder\n",
    "builder = PencilBeamBuilder()\n",
    "builder.add_energy_eV(5e3)\n",
    "builder.add_energy_keV(15)\n",
    "builder.add_linescan_x(-100e-6, 100e-6, 25e-6)\n",
    "beams = builder.build()\n",
    "\n",
    "beams"
   ]
  },
  {
   "cell_type": "markdown",
   "metadata": {},
   "source": [
    "The variable `beams` is a `list` of 16 pencil beams, 2 incident electron energies and 8 positions in the linescan. Note however that each `Options` instance can only take one beam. This will result in an *exception* at validation."
   ]
  },
  {
   "cell_type": "markdown",
   "metadata": {},
   "source": [
    "### Sample\n",
    "\n",
    "The sample parameter defines the geometry and the materials of the sample \n",
    "being bombarded by the incident particles.\n",
    "There are currently 5 types of sample implemented:\n",
    "\n",
    "* substrate (`SubstrateSample`): An infinitely thick sample. \n",
    "* inclusion (`InclusionSample`): An half-sphere inclusion in a substrate.\n",
    "* horizontal layered (`HorizontalLayerSample`): Creates a multi-layers geometry. \n",
    "  The layers are assumed to be in the x-y plane (normal parallel to z) at tilt of 0.0°.\n",
    "* vertical layered (`VericalLayerSample`): Creates a grain boundaries sample.\n",
    "  It consists of 0 or many layers in the y-z plane (normal parallel to x) simulating interfaces between different materials.\n",
    "  If no layer is defined, the geometry is a couple.\n",
    "* sphere (`SphereSample`): A sphere in vacuum.\n",
    "    \n",
    "For all types of sample, the sample is entirely located below the ``z = 0`` plane.\n",
    "While some Monte Carlo programs support custom and complex sample definitions, it was chosen for simplicity and compatibility to constrain the available types of sample.\n",
    "If you would like to suggest/contribute another type of sample, please open an enhancement [issue](https://github.com/pymontecarlo/pymontecarlo/issues) or submit a [pull request](https://github.com/pymontecarlo/pymontecarlo/pulls).\n"
   ]
  },
  {
   "cell_type": "markdown",
   "metadata": {},
   "source": [
    "Before creating a sample, material(s) must be defined.\n",
    "A material defines the composition and density in a part of the sample (e.g. layer or substrate).\n",
    "After importing the `Material` class, "
   ]
  },
  {
   "cell_type": "code",
   "execution_count": null,
   "metadata": {},
   "outputs": [],
   "source": [
    "from pymontecarlo.options.material import Material"
   ]
  },
  {
   "cell_type": "markdown",
   "metadata": {},
   "source": [
    "There are three ways to create a material:\n",
    "\n",
    "1. Pure, single element material:"
   ]
  },
  {
   "cell_type": "code",
   "execution_count": null,
   "metadata": {},
   "outputs": [],
   "source": [
    "material = Material.pure(14) # pure silicon"
   ]
  },
  {
   "cell_type": "markdown",
   "metadata": {},
   "source": [
    "2. A chemical formula:"
   ]
  },
  {
   "cell_type": "code",
   "execution_count": null,
   "metadata": {},
   "outputs": [],
   "source": [
    "material = Material.from_formula('SiO2')"
   ]
  },
  {
   "cell_type": "markdown",
   "metadata": {},
   "source": [
    "3. Composition in mass fraction. \n",
    "   The composition is expressed as a :class:`dict` where keys are atomic numbers and values, mass fractions:"
   ]
  },
  {
   "cell_type": "code",
   "execution_count": null,
   "metadata": {},
   "outputs": [],
   "source": [
    "composition = {29: 0.4, 30: 0.6}\n",
    "material = Material('Brass', composition)"
   ]
  },
  {
   "cell_type": "markdown",
   "metadata": {},
   "source": [
    "In all three cases the mass density (in kg/m3) can be specified as an argument or set from its attribute:"
   ]
  },
  {
   "cell_type": "code",
   "execution_count": null,
   "metadata": {},
   "outputs": [],
   "source": [
    "material.density_kg_per_m3 = 8400\n",
    "material.density_g_per_cm3 = 8.4"
   ]
  },
  {
   "cell_type": "markdown",
   "metadata": {},
   "source": [
    "If the density is not specified, it is calculated using this following formula:\n",
    "\n",
    "$$\\frac{1}{\\rho} = \\sum{\\frac{m_i}{\\rho_i}}$$\n",
    "\n",
    "where $\\rho_i$ and $m_i$ are respectively the elemental mass density and mass fraction of element $i$."
   ]
  },
  {
   "cell_type": "markdown",
   "metadata": {},
   "source": [
    "Each sample has different methods and variables to setup the materials. \n",
    "Here is an example for the substrate sample:"
   ]
  },
  {
   "cell_type": "code",
   "execution_count": null,
   "metadata": {},
   "outputs": [],
   "source": [
    "from pymontecarlo.options.sample import SubstrateSample\n",
    "from pymontecarlo.options.material import Material\n",
    "\n",
    "copper = Material.pure(29)\n",
    "substrate = SubstrateSample(copper)"
   ]
  },
  {
   "cell_type": "markdown",
   "metadata": {},
   "source": [
    "and here is an example for the horizontal layered sample. \n",
    "The substrate is set to copper and two layers are added on top, forming from top to bottom: 100nm of SiO2, 50nm of brass and then copper:"
   ]
  },
  {
   "cell_type": "code",
   "execution_count": null,
   "metadata": {},
   "outputs": [],
   "source": [
    "from pymontecarlo.options.sample import HorizontalLayerSample\n",
    "from pymontecarlo.options.material import Material\n",
    "\n",
    "copper = Material.pure(29)\n",
    "sio2 = Material.from_formula('SiO2')\n",
    "brass = Material('Brass', {29: 0.4, 30: 0.6})\n",
    "\n",
    "sample = HorizontalLayerSample(copper)\n",
    "sample.add_layer(sio2, 100e-9)\n",
    "sample.add_layer(brass, 50e-9)"
   ]
  },
  {
   "cell_type": "markdown",
   "metadata": {},
   "source": [
    "One trick to make sure the sample is properly setup is to draw it.\n",
    "**pyMonteCarlo** uses [matplotlib](http://matplotlib.org) to draw the sample in 2D along the XZ, YZ or XY perspective.\n",
    "Here is an example:"
   ]
  },
  {
   "cell_type": "code",
   "execution_count": null,
   "metadata": {},
   "outputs": [],
   "source": [
    "import matplotlib.pyplot as plt\n",
    "from pymontecarlo.figures.sample import SampleFigure, Perspective\n",
    "\n",
    "plt.figure()\n",
    "plt.subplot(\"111\")\n",
    "\n",
    "samplefig = SampleFigure(sample)\n",
    "samplefig.perspective = Perspective.XZ\n",
    "samplefig.draw(plt.gca())\n",
    "\n",
    "plt.show()"
   ]
  },
  {
   "cell_type": "markdown",
   "metadata": {},
   "source": [
    "### Analyses"
   ]
  },
  {
   "cell_type": "markdown",
   "metadata": {},
   "source": [
    "## Running simulation(s)\n"
   ]
  },
  {
   "cell_type": "markdown",
   "metadata": {},
   "source": [
    "## Interpreting simulation results\n"
   ]
  },
  {
   "cell_type": "code",
   "execution_count": null,
   "metadata": {},
   "outputs": [],
   "source": []
  }
 ],
 "metadata": {
  "kernelspec": {
   "display_name": "Python 3",
   "language": "python",
   "name": "python3"
  },
  "language_info": {
   "codemirror_mode": {
    "name": "ipython",
    "version": 3
   },
   "file_extension": ".py",
   "mimetype": "text/x-python",
   "name": "python",
   "nbconvert_exporter": "python",
   "pygments_lexer": "ipython3",
   "version": "3.7.1"
  }
 },
 "nbformat": 4,
 "nbformat_minor": 2
}
