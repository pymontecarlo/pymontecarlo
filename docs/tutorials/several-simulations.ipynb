{
 "cells": [
  {
   "cell_type": "markdown",
   "metadata": {},
   "source": [
    "# Run several simulations\n",
    "\n",
    "If you are looking to perform a line scan, you should have a look at the pencil beam builder class `PencilBeamBuilder`. Builder classes are helper classes to create multiple instances by varying one or more parameters. For example, if we would like to create a pencil beam at two incident energy (5 and 15kV) and scan the sample from -100 to 100μm with a step size of 25μm:"
   ]
  },
  {
   "cell_type": "code",
   "execution_count": null,
   "metadata": {},
   "outputs": [],
   "source": [
    "from pymontecarlo.options.beam import PencilBeamBuilder\n",
    "builder = PencilBeamBuilder()\n",
    "builder.add_energy_eV(5e3)\n",
    "builder.add_energy_keV(15)\n",
    "builder.add_linescan_x(-100e-6, 100e-6, 25e-6)\n",
    "beams = builder.build()\n",
    "\n",
    "beams"
   ]
  },
  {
   "cell_type": "markdown",
   "metadata": {},
   "source": [
    "The variable `beams` is a `list` of 16 pencil beams, 2 incident electron energies and 8 positions in the linescan. Note however that each `Options` instance can only take one beam. This will result in an *exception* at validation."
   ]
  },
  {
   "cell_type": "code",
   "execution_count": null,
   "metadata": {},
   "outputs": [],
   "source": [
    "\n",
    "from __future__ import print_function\n",
    "from ipywidgets import interact, interactive, fixed, interact_manual\n",
    "import ipywidgets as widgets\n",
    "\n"
   ]
  },
  {
   "cell_type": "code",
   "execution_count": null,
   "metadata": {},
   "outputs": [],
   "source": []
  }
 ],
 "metadata": {
  "kernelspec": {
   "display_name": "Python 3",
   "language": "python",
   "name": "python3"
  },
  "language_info": {
   "codemirror_mode": {
    "name": "ipython",
    "version": 3
   },
   "file_extension": ".py",
   "mimetype": "text/x-python",
   "name": "python",
   "nbconvert_exporter": "python",
   "pygments_lexer": "ipython3",
   "version": "3.7.1"
  }
 },
 "nbformat": 4,
 "nbformat_minor": 2
}
