{
 "cells": [
  {
   "cell_type": "markdown",
   "metadata": {},
   "source": [
    "# Run several simulations\n",
    "\n",
    "One advantage of **pyMonteCarlo** is the possibility to run several simulations.\n",
    "In this example, we will try to study the influence of the beam energy and the thickness of the carbon coating on the k-ratios of O K$\\alpha$ and Al K$\\alpha$ in orthoclase."
   ]
  },
  {
   "cell_type": "markdown",
   "metadata": {},
   "source": [
    "We start by defining the beam energies and carbon thicknesses."
   ]
  },
  {
   "cell_type": "code",
   "execution_count": null,
   "metadata": {},
   "outputs": [],
   "source": [
    "beam_energies_keV = [5.0, 10.0, 20.0]\n",
    "carbon_thicknesses_nm = [10, 20, 50]"
   ]
  },
  {
   "cell_type": "markdown",
   "metadata": {},
   "source": [
    "We import the required classes of **pyMonteCarlo** and Python's built-in module, *itertools*.\n",
    "For this example, we will run the simulations with **Casino 2**, but this could be replaced by any support programs."
   ]
  },
  {
   "cell_type": "code",
   "execution_count": null,
   "metadata": {},
   "outputs": [],
   "source": [
    "import math\n",
    "import itertools\n",
    "\n",
    "from pymontecarlo_casino2.program import Casino2Program\n",
    "from pymontecarlo.options.beam import PencilBeam\n",
    "from pymontecarlo.options.material import Material\n",
    "from pymontecarlo.options.sample import HorizontalLayerSample\n",
    "from pymontecarlo.options.detector import PhotonDetector\n",
    "from pymontecarlo.options.analysis import KRatioAnalysis\n",
    "from pymontecarlo.options import Options\n",
    "from pymontecarlo.runner.helper import run_async"
   ]
  },
  {
   "cell_type": "markdown",
   "metadata": {},
   "source": [
    "We create the materials."
   ]
  },
  {
   "cell_type": "code",
   "execution_count": null,
   "metadata": {},
   "outputs": [],
   "source": [
    "material_orthoclase = Material.from_formula('KAlSi3O8')\n",
    "material_carbon = Material.pure(6)"
   ]
  },
  {
   "cell_type": "markdown",
   "metadata": {},
   "source": [
    "Using `itertools.product(...)`, we create options for every combination of beam energy and carbon thickness and store them in a list."
   ]
  },
  {
   "cell_type": "code",
   "execution_count": null,
   "metadata": {},
   "outputs": [],
   "source": [
    "list_options = []\n",
    "for beam_energy_keV, carbon_thickness_nm in itertools.product(beam_energies_keV, carbon_thicknesses_nm):\n",
    "    program = Casino2Program(number_trajectories=5000)\n",
    "    \n",
    "    beam = PencilBeam(beam_energy_keV * 1e3) # Convert to eV\n",
    "    \n",
    "    sample = HorizontalLayerSample(material_orthoclase)\n",
    "    sample.add_layer(material_carbon, carbon_thickness_nm * 1e-9) # Convert thickness to meters\n",
    "    \n",
    "    detector = PhotonDetector(name='detector1', elevation_rad=math.radians(40))\n",
    "    \n",
    "    analysis = KRatioAnalysis(detector)\n",
    "    \n",
    "    options = Options(program, beam, sample, [analysis])\n",
    "    list_options.append(options)"
   ]
  },
  {
   "cell_type": "markdown",
   "metadata": {},
   "source": [
    "With 3 beam energies and 3 carbon thicknesses, we get 9 options."
   ]
  },
  {
   "cell_type": "code",
   "execution_count": null,
   "metadata": {},
   "outputs": [],
   "source": [
    "len(list_options)"
   ]
  },
  {
   "cell_type": "markdown",
   "metadata": {},
   "source": [
    "We can now run these simulations in parallel. \n",
    "By default, the number of simulations that will be run concurrently depends on the number of CPUs.\n",
    "This can be also modified by the argument, `max_workers` of the `run_async(...)` function."
   ]
  },
  {
   "cell_type": "code",
   "execution_count": null,
   "metadata": {},
   "outputs": [],
   "source": [
    "project = await run_async(list_options)"
   ]
  },
  {
   "cell_type": "markdown",
   "metadata": {},
   "source": [
    "We first checks the number of simulations. We should have 9 simulations from the 9 options provided, but also one simulation for each standard used to calculate the k-ratios. There are 4 elements in orthoclase and one element in the coating. The same standard can be reused for the different carbon coating thicknesses, but not for the different beam energies. So the expected number of simulations should be: `9 + 3 * (4 + 1) = 24`. This example shows that **pyMonteCarlo** is aware which additional simulations it needs to calculate the k-ratios and only simulate these once."
   ]
  },
  {
   "cell_type": "code",
   "execution_count": null,
   "metadata": {},
   "outputs": [],
   "source": [
    "len(project.simulations)"
   ]
  },
  {
   "cell_type": "markdown",
   "metadata": {},
   "source": [
    "Now to the analysis of the results. There are several ways to extract results from the simulations, but perhaps the easiest one is to convert all the results into a **pandas** `DataFrame`. To reduce the number of columns of the `DataFrame`, it is useful to pass the result class, `KRatioReslt` in this case, and request only the columns with different information. "
   ]
  },
  {
   "cell_type": "code",
   "execution_count": null,
   "metadata": {},
   "outputs": [],
   "source": [
    "from pymontecarlo.results import KRatioResult\n",
    "from pymontecarlo.settings import Settings, XrayNotation\n",
    "\n",
    "settings = Settings()\n",
    "settings.set_preferred_unit('keV')\n",
    "settings.set_preferred_unit('nm')\n",
    "settings.set_preferred_unit('deg')\n",
    "settings.set_preferred_unit('g/cm^3')\n",
    "settings.preferred_xray_notation = XrayNotation.SIEGBAHN\n",
    "\n",
    "df = project.create_dataframe(settings, result_classes=[KRatioResult], only_different_columns=True)\n",
    "df"
   ]
  },
  {
   "cell_type": "markdown",
   "metadata": {},
   "source": [
    "The **pandas** `DataFrame` above contains one row for each simulation, including the standards. Since we are only interested in the k-ratios of the *unknowns*, we can filter the `DataFrame` and drop some columns."
   ]
  },
  {
   "cell_type": "code",
   "execution_count": null,
   "metadata": {},
   "outputs": [],
   "source": [
    "# Keep only standard rows\n",
    "df = df[df['standard'] != True].dropna(axis=1)\n",
    "\n",
    "# Remove columns which all contain the same values\n",
    "df = df[[col for col in df if df[col].nunique() != 1]]\n",
    "df"
   ]
  },
  {
   "cell_type": "markdown",
   "metadata": {},
   "source": [
    "We can then use this `DataFrame` to plot the results using **matplotlib**."
   ]
  },
  {
   "cell_type": "code",
   "execution_count": null,
   "metadata": {},
   "outputs": [],
   "source": [
    "import matplotlib.pyplot as plt\n",
    "\n",
    "xraylines = ['O Kα', 'Al Kα']\n",
    "\n",
    "fig, axes = plt.subplots(1, len(xraylines), figsize=(5 * len(xraylines), 4))\n",
    "fig.subplots_adjust(wspace=0.3)\n",
    "\n",
    "for ax, xrayline in zip(axes, xraylines):\n",
    "    for beam_energy_keV, df_beam_energy in df.groupby('beam energy [keV]'):\n",
    "        ax.plot(df_beam_energy['layer #0 thickness [nm]'], df_beam_energy[xrayline], 'o-', label=f'E0={beam_energy_keV:.0f} keV')\n",
    "\n",
    "    ax.set_xlabel('Carbon coating thickness (nm)')\n",
    "    ax.set_ylabel(f'{xrayline} k-ratio')\n",
    "    \n",
    "axes[0].legend(loc='best')\n",
    "\n",
    "plt.show()"
   ]
  },
  {
   "cell_type": "code",
   "execution_count": null,
   "metadata": {},
   "outputs": [],
   "source": []
  }
 ],
 "metadata": {
  "kernelspec": {
   "display_name": "Python 3",
   "language": "python",
   "name": "python3"
  },
  "language_info": {
   "codemirror_mode": {
    "name": "ipython",
    "version": 3
   },
   "file_extension": ".py",
   "mimetype": "text/x-python",
   "name": "python",
   "nbconvert_exporter": "python",
   "pygments_lexer": "ipython3",
   "version": "3.7.4"
  }
 },
 "nbformat": 4,
 "nbformat_minor": 4
}
